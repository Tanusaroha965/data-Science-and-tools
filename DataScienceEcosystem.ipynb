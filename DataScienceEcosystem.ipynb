{
 "cells": [
  {
   "cell_type": "markdown",
   "id": "cd35ca34-3486-4615-a05b-6cc49e0484f8",
   "metadata": {
    "panel-layout": {
     "height": 51.1184196472168,
     "visible": true,
     "width": 100
    }
   },
   "source": [
    "# Data Science Tools And Ecosystem"
   ]
  },
  {
   "cell_type": "markdown",
   "id": "8d7e0180-7a35-48f1-87d6-3582347f5881",
   "metadata": {},
   "source": [
    "In this notebook, Data Science Tools and Ecosystem are summarized."
   ]
  },
  {
   "cell_type": "markdown",
   "id": "0241ad2e-0849-46b5-ae10-40df22a6785e",
   "metadata": {},
   "source": [
    "Some of the popular languages that Data Scientists use are:\n",
    "1. Python\n",
    "2. R\n",
    "3. SQL\n",
    "4. c++\n",
    "5. Java etc...;"
   ]
  },
  {
   "cell_type": "markdown",
   "id": "446984b2-2b7c-44a9-88f5-acbf7bb2eb78",
   "metadata": {},
   "source": [
    "Some of the commonly used libraries used by Data Scientists include:\n",
    "1. TensorFlow\n",
    "2. Numpy\n",
    "3. SciPy\n",
    "4. Pandas\n",
    "5. Matplotlib\n",
    "6. Keras\n",
    "7. SciKit-Learn\n",
    "8. PyTorch, etc...\n"
   ]
  },
  {
   "cell_type": "markdown",
   "id": "bd0e28dc-13e7-4cf7-b46d-c9f3b96c114e",
   "metadata": {},
   "source": [
    "|Data Science Tools|\n",
    "|---|\n",
    "|SAS|\n",
    "|Apache Hadoop|\n",
    "|Tensor Flow|"
   ]
  },
  {
   "cell_type": "markdown",
   "id": "da6ca34b-cebe-4c1a-8dc9-5332a5a10ddc",
   "metadata": {},
   "source": [
    "## Below are a few examples of evaluating arithmetic expressions in Python"
   ]
  },
  {
   "cell_type": "code",
   "execution_count": 55,
   "id": "32a7eb5b-aab2-4b9c-a419-45c274f6020f",
   "metadata": {},
   "outputs": [
    {
     "data": {
      "text/plain": [
       "17"
      ]
     },
     "execution_count": 55,
     "metadata": {},
     "output_type": "execute_result"
    }
   ],
   "source": [
    " #This a simple arithmetic expression to mutiply then add integers\n",
    "(3*4)+5"
   ]
  },
  {
   "cell_type": "code",
   "execution_count": 57,
   "id": "f2c88e3a-93bc-4949-8543-df03086410ab",
   "metadata": {},
   "outputs": [
    {
     "data": {
      "text/plain": [
       "3.3333333333333335"
      ]
     },
     "execution_count": 57,
     "metadata": {},
     "output_type": "execute_result"
    }
   ],
   "source": [
    "#This will convert 200 minutes to hours by diving by 60\n",
    "200/60"
   ]
  },
  {
   "cell_type": "markdown",
   "id": "27fd3504-a15c-4260-b8fd-af4ba15cfe56",
   "metadata": {},
   "source": [
    "__Objective__\n",
    "* List popular languages for Data Science\n",
    "* List popular libraries for Data Science\n",
    "*List of well known Data Science Tools\n",
    "* How to provide commands in the cell"
   ]
  },
  {
   "cell_type": "markdown",
   "id": "cbb98e5d-00a5-4bae-b87c-1c8e111c9535",
   "metadata": {},
   "source": [
    "### Author\n",
    "Tanu"
   ]
  }
 ],
 "metadata": {
  "kernelspec": {
   "display_name": "Python 3 (ipykernel)",
   "language": "python",
   "name": "python3"
  },
  "language_info": {
   "codemirror_mode": {
    "name": "ipython",
    "version": 3
   },
   "file_extension": ".py",
   "mimetype": "text/x-python",
   "name": "python",
   "nbconvert_exporter": "python",
   "pygments_lexer": "ipython3",
   "version": "3.12.4"
  },
  "panel-cell-order": [
   "cd35ca34-3486-4615-a05b-6cc49e0484f8"
  ]
 },
 "nbformat": 4,
 "nbformat_minor": 5
}
